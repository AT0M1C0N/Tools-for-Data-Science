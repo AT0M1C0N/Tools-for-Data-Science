{
 "cells": [
  {
   "cell_type": "markdown",
   "id": "841ef685",
   "metadata": {},
   "source": [
    "# Tools for Data Science"
   ]
  },
  {
   "cell_type": "markdown",
   "id": "adcc61fb",
   "metadata": {},
   "source": [
    "Summary of Tools for Data Science"
   ]
  },
  {
   "cell_type": "markdown",
   "id": "1eadbd06",
   "metadata": {},
   "source": [
    "## Objectives\n",
    "- Popular programming languages in Data Science\n",
    "- Commonly used libraries Data Science\n",
    "- Data Science Tools\n",
    "- Generic arithmetic expressions"
   ]
  },
  {
   "cell_type": "markdown",
   "id": "6ddbb567",
   "metadata": {},
   "source": [
    "### Popular programming languages in Data Science\n",
    "1. R\n",
    "2. Python\n",
    "3. Java\n",
    "4. C++\n",
    "5. C"
   ]
  },
  {
   "cell_type": "markdown",
   "id": "b8ba0be5",
   "metadata": {},
   "source": [
    "### Commonly used libraries Data Science\n",
    "1. numpy\n",
    "2. pandas\n",
    "3. matplotlib"
   ]
  },
  {
   "cell_type": "markdown",
   "id": "d7227547",
   "metadata": {},
   "source": [
    "| Data Science Tools |\n",
    "|:--------------------:|\n",
    "| Anaconda |\n",
    "| Spyder |\n",
    "| Jupyter |\n",
    "| R Studio |"
   ]
  },
  {
   "cell_type": "markdown",
   "id": "39486c5a",
   "metadata": {},
   "source": [
    "### Generic arithmetic expressions"
   ]
  },
  {
   "cell_type": "code",
   "execution_count": 2,
   "id": "af1b1892",
   "metadata": {},
   "outputs": [
    {
     "data": {
      "text/plain": [
       "79"
      ]
     },
     "execution_count": 2,
     "metadata": {},
     "output_type": "execute_result"
    }
   ],
   "source": [
    "#Multiply and add integers\n",
    "(12*6)+7"
   ]
  },
  {
   "cell_type": "code",
   "execution_count": 4,
   "id": "3f02f754",
   "metadata": {},
   "outputs": [
    {
     "data": {
      "text/plain": [
       "3.0"
      ]
     },
     "execution_count": 4,
     "metadata": {},
     "output_type": "execute_result"
    }
   ],
   "source": [
    "#Convert 200 Minutes into hours by dividing it by 60\n",
    "180/60"
   ]
  },
  {
   "cell_type": "markdown",
   "id": "95423ec1",
   "metadata": {},
   "source": [
    "#### Author"
   ]
  },
  {
   "cell_type": "markdown",
   "id": "147eb17e",
   "metadata": {},
   "source": [
    "Johann Capistrano"
   ]
  },
  {
   "cell_type": "code",
   "execution_count": null,
   "id": "23b2edf2",
   "metadata": {},
   "outputs": [],
   "source": []
  }
 ],
 "metadata": {
  "kernelspec": {
   "display_name": "Python 3 (ipykernel)",
   "language": "python",
   "name": "python3"
  },
  "language_info": {
   "codemirror_mode": {
    "name": "ipython",
    "version": 3
   },
   "file_extension": ".py",
   "mimetype": "text/x-python",
   "name": "python",
   "nbconvert_exporter": "python",
   "pygments_lexer": "ipython3",
   "version": "3.11.5"
  }
 },
 "nbformat": 4,
 "nbformat_minor": 5
}
